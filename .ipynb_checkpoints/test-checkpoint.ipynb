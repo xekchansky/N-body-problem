{
 "cells": [
  {
   "cell_type": "code",
   "execution_count": null,
   "metadata": {},
   "outputs": [
    {
     "name": "stderr",
     "output_type": "stream",
     "text": [
      " 97%|████████████████████████████████████▋ | 9672/10001 [12:30<00:25, 13.06it/s]"
     ]
    }
   ],
   "source": [
    "from experiments import Experiment\n",
    "\n",
    "import time\n",
    "import matplotlib.pyplot as plt\n",
    "\n",
    "experiment = Experiment()\n",
    "pos_res, vel_res, ts, elap_time = experiment.run(100, 1000, 10000)\n",
    "print('Elapsed time:', time.strftime('%H:%M:%S', time.gmtime(elap_time)))\n",
    "\n",
    "f = plt.figure(figsize=(10,15))\n",
    "\n",
    "ax1 = f.add_subplot(311)\n",
    "ax1.set_title('position residuals')\n",
    "ax1.plot(ts, pos_res)\n",
    "\n",
    "ax2 = f.add_subplot(312, sharex=ax1)\n",
    "ax2.set_title('velocity residuals')\n",
    "ax2.plot(ts, vel_res)\n",
    "\n",
    "plt.show()"
   ]
  }
 ],
 "metadata": {
  "kernelspec": {
   "display_name": "Python 3 (ipykernel)",
   "language": "python",
   "name": "python3"
  },
  "language_info": {
   "codemirror_mode": {
    "name": "ipython",
    "version": 3
   },
   "file_extension": ".py",
   "mimetype": "text/x-python",
   "name": "python",
   "nbconvert_exporter": "python",
   "pygments_lexer": "ipython3",
   "version": "3.10.4"
  }
 },
 "nbformat": 4,
 "nbformat_minor": 4
}
